{
 "cells": [
  {
   "cell_type": "code",
   "execution_count": 3,
   "id": "ea0a0e98",
   "metadata": {},
   "outputs": [
    {
     "name": "stdout",
     "output_type": "stream",
     "text": [
      "Collecting selenium==4.2.0\n",
      "  Using cached selenium-4.2.0-py3-none-any.whl (983 kB)\n",
      "Collecting trio~=0.17\n",
      "  Using cached trio-0.22.0-py3-none-any.whl (384 kB)\n",
      "Collecting urllib3[secure,socks]~=1.26\n",
      "  Downloading urllib3-1.26.14-py2.py3-none-any.whl (140 kB)\n",
      "Collecting trio-websocket~=0.9\n",
      "  Using cached trio_websocket-0.9.2-py3-none-any.whl (16 kB)\n",
      "Requirement already satisfied: sortedcontainers in c:\\users\\zhaop\\anaconda3\\lib\\site-packages (from trio~=0.17->selenium==4.2.0) (2.4.0)\n",
      "Requirement already satisfied: attrs>=19.2.0 in c:\\users\\zhaop\\anaconda3\\lib\\site-packages (from trio~=0.17->selenium==4.2.0) (21.2.0)\n",
      "Requirement already satisfied: cffi>=1.14 in c:\\users\\zhaop\\anaconda3\\lib\\site-packages (from trio~=0.17->selenium==4.2.0) (1.14.6)\n",
      "Requirement already satisfied: sniffio in c:\\users\\zhaop\\anaconda3\\lib\\site-packages (from trio~=0.17->selenium==4.2.0) (1.2.0)\n",
      "Collecting outcome\n",
      "  Using cached outcome-1.2.0-py2.py3-none-any.whl (9.7 kB)\n",
      "Requirement already satisfied: async-generator>=1.9 in c:\\users\\zhaop\\anaconda3\\lib\\site-packages (from trio~=0.17->selenium==4.2.0) (1.10)\n",
      "Collecting exceptiongroup>=1.0.0rc9\n",
      "  Using cached exceptiongroup-1.1.0-py3-none-any.whl (14 kB)\n",
      "Requirement already satisfied: idna in c:\\users\\zhaop\\anaconda3\\lib\\site-packages (from trio~=0.17->selenium==4.2.0) (2.10)\n",
      "Requirement already satisfied: pycparser in c:\\users\\zhaop\\anaconda3\\lib\\site-packages (from cffi>=1.14->trio~=0.17->selenium==4.2.0) (2.20)\n",
      "Collecting wsproto>=0.14\n",
      "  Using cached wsproto-1.2.0-py3-none-any.whl (24 kB)\n",
      "Requirement already satisfied: pyOpenSSL>=0.14 in c:\\users\\zhaop\\anaconda3\\lib\\site-packages (from urllib3[secure,socks]~=1.26->selenium==4.2.0) (21.0.0)\n",
      "Requirement already satisfied: certifi in c:\\users\\zhaop\\anaconda3\\lib\\site-packages (from urllib3[secure,socks]~=1.26->selenium==4.2.0) (2021.10.8)\n",
      "Requirement already satisfied: cryptography>=1.3.4 in c:\\users\\zhaop\\anaconda3\\lib\\site-packages (from urllib3[secure,socks]~=1.26->selenium==4.2.0) (3.4.8)\n",
      "Collecting urllib3-secure-extra\n",
      "  Using cached urllib3_secure_extra-0.1.0-py2.py3-none-any.whl (1.4 kB)\n",
      "Requirement already satisfied: PySocks!=1.5.7,<2.0,>=1.5.6 in c:\\users\\zhaop\\anaconda3\\lib\\site-packages (from urllib3[secure,socks]~=1.26->selenium==4.2.0) (1.7.1)\n",
      "Requirement already satisfied: six>=1.5.2 in c:\\users\\zhaop\\anaconda3\\lib\\site-packages (from pyOpenSSL>=0.14->urllib3[secure,socks]~=1.26->selenium==4.2.0) (1.16.0)\n",
      "Collecting h11<1,>=0.9.0\n",
      "  Using cached h11-0.14.0-py3-none-any.whl (58 kB)\n",
      "Installing collected packages: outcome, h11, exceptiongroup, wsproto, urllib3-secure-extra, urllib3, trio, trio-websocket, selenium\n",
      "  Attempting uninstall: urllib3\n",
      "    Found existing installation: urllib3 1.25.11\n",
      "    Uninstalling urllib3-1.25.11:\n",
      "      Successfully uninstalled urllib3-1.25.11\n",
      "Successfully installed exceptiongroup-1.1.0 h11-0.14.0 outcome-1.2.0 selenium-4.2.0 trio-0.22.0 trio-websocket-0.9.2 urllib3-1.26.14 urllib3-secure-extra-0.1.0 wsproto-1.2.0\n"
     ]
    },
    {
     "name": "stderr",
     "output_type": "stream",
     "text": [
      "ERROR: pip's dependency resolver does not currently take into account all the packages that are installed. This behaviour is the source of the following dependency conflicts.\n",
      "conda-repo-cli 1.0.4 requires pathlib, which is not installed.\n",
      "anaconda-project 0.10.1 requires ruamel-yaml, which is not installed.\n",
      "requests 2.24.0 requires urllib3!=1.25.0,!=1.25.1,<1.26,>=1.21.1, but you have urllib3 1.26.14 which is incompatible.\n"
     ]
    },
    {
     "name": "stdout",
     "output_type": "stream",
     "text": [
      "Collecting Scweet\n",
      "  Using cached Scweet-1.8-py3-none-any.whl (14 kB)\n",
      "Requirement already satisfied: pandas in c:\\users\\zhaop\\anaconda3\\lib\\site-packages (from Scweet) (1.4.3)\n",
      "Collecting chromedriver-autoinstaller\n",
      "  Using cached chromedriver_autoinstaller-0.4.0-py3-none-any.whl (6.5 kB)\n",
      "Requirement already satisfied: urllib3 in c:\\users\\zhaop\\anaconda3\\lib\\site-packages (from Scweet) (1.26.14)\n",
      "Collecting python-dotenv\n",
      "  Using cached python_dotenv-0.21.0-py3-none-any.whl (18 kB)\n",
      "Requirement already satisfied: selenium in c:\\users\\zhaop\\anaconda3\\lib\\site-packages (from Scweet) (4.2.0)\n",
      "Requirement already satisfied: python-dateutil>=2.8.1 in c:\\users\\zhaop\\anaconda3\\lib\\site-packages (from pandas->Scweet) (2.8.2)\n",
      "Requirement already satisfied: numpy>=1.18.5 in c:\\users\\zhaop\\anaconda3\\lib\\site-packages (from pandas->Scweet) (1.23.2)\n",
      "Requirement already satisfied: pytz>=2020.1 in c:\\users\\zhaop\\anaconda3\\lib\\site-packages (from pandas->Scweet) (2021.3)\n",
      "Requirement already satisfied: six>=1.5 in c:\\users\\zhaop\\anaconda3\\lib\\site-packages (from python-dateutil>=2.8.1->pandas->Scweet) (1.16.0)\n",
      "Requirement already satisfied: trio~=0.17 in c:\\users\\zhaop\\anaconda3\\lib\\site-packages (from selenium->Scweet) (0.22.0)\n",
      "Requirement already satisfied: trio-websocket~=0.9 in c:\\users\\zhaop\\anaconda3\\lib\\site-packages (from selenium->Scweet) (0.9.2)\n",
      "Requirement already satisfied: sniffio in c:\\users\\zhaop\\anaconda3\\lib\\site-packages (from trio~=0.17->selenium->Scweet) (1.2.0)\n",
      "Requirement already satisfied: outcome in c:\\users\\zhaop\\anaconda3\\lib\\site-packages (from trio~=0.17->selenium->Scweet) (1.2.0)\n",
      "Requirement already satisfied: exceptiongroup>=1.0.0rc9 in c:\\users\\zhaop\\anaconda3\\lib\\site-packages (from trio~=0.17->selenium->Scweet) (1.1.0)\n",
      "Requirement already satisfied: sortedcontainers in c:\\users\\zhaop\\anaconda3\\lib\\site-packages (from trio~=0.17->selenium->Scweet) (2.4.0)\n",
      "Requirement already satisfied: idna in c:\\users\\zhaop\\anaconda3\\lib\\site-packages (from trio~=0.17->selenium->Scweet) (2.10)\n",
      "Requirement already satisfied: async-generator>=1.9 in c:\\users\\zhaop\\anaconda3\\lib\\site-packages (from trio~=0.17->selenium->Scweet) (1.10)\n",
      "Requirement already satisfied: attrs>=19.2.0 in c:\\users\\zhaop\\anaconda3\\lib\\site-packages (from trio~=0.17->selenium->Scweet) (21.2.0)\n",
      "Requirement already satisfied: cffi>=1.14 in c:\\users\\zhaop\\anaconda3\\lib\\site-packages (from trio~=0.17->selenium->Scweet) (1.14.6)\n",
      "Requirement already satisfied: pycparser in c:\\users\\zhaop\\anaconda3\\lib\\site-packages (from cffi>=1.14->trio~=0.17->selenium->Scweet) (2.20)\n",
      "Requirement already satisfied: wsproto>=0.14 in c:\\users\\zhaop\\anaconda3\\lib\\site-packages (from trio-websocket~=0.9->selenium->Scweet) (1.2.0)\n",
      "Requirement already satisfied: urllib3-secure-extra in c:\\users\\zhaop\\anaconda3\\lib\\site-packages (from urllib3->Scweet) (0.1.0)\n",
      "Requirement already satisfied: pyOpenSSL>=0.14 in c:\\users\\zhaop\\anaconda3\\lib\\site-packages (from urllib3->Scweet) (21.0.0)\n",
      "Requirement already satisfied: certifi in c:\\users\\zhaop\\anaconda3\\lib\\site-packages (from urllib3->Scweet) (2021.10.8)\n",
      "Requirement already satisfied: cryptography>=1.3.4 in c:\\users\\zhaop\\anaconda3\\lib\\site-packages (from urllib3->Scweet) (3.4.8)\n",
      "Requirement already satisfied: PySocks!=1.5.7,<2.0,>=1.5.6 in c:\\users\\zhaop\\anaconda3\\lib\\site-packages (from urllib3->Scweet) (1.7.1)\n",
      "Requirement already satisfied: h11<1,>=0.9.0 in c:\\users\\zhaop\\anaconda3\\lib\\site-packages (from wsproto>=0.14->trio-websocket~=0.9->selenium->Scweet) (0.14.0)\n",
      "Installing collected packages: python-dotenv, chromedriver-autoinstaller, Scweet\n",
      "Successfully installed Scweet-1.8 chromedriver-autoinstaller-0.4.0 python-dotenv-0.21.0\n"
     ]
    }
   ],
   "source": [
    "!pip install selenium==4.2.0\n",
    "!pip install Scweet"
   ]
  },
  {
   "cell_type": "code",
   "execution_count": 1,
   "id": "f6c7922d",
   "metadata": {},
   "outputs": [
    {
     "name": "stdout",
     "output_type": "stream",
     "text": [
      "Scraping on headless mode.\n",
      "looking for tweets between 2022-12-20 and 2022-12-21 ...\n",
      " path : https://twitter.com/search?q=(covid)%20until%3A2022-12-21%20since%3A2022-12-20%20lang%3Aen%20geocode%3A38.3452,-0.481006,200km&src=typed_query\n",
      "scroll  1\n",
      "scroll  2\n",
      "scroll  3\n",
      "looking for tweets between 2022-12-21 and 2022-12-22 ...\n",
      " path : https://twitter.com/search?q=(covid)%20until%3A2022-12-22%20since%3A2022-12-21%20lang%3Aen%20geocode%3A38.3452,-0.481006,200km&src=typed_query\n",
      "Tweet made at: 2022-12-21T23:03:56.000Z is found.\n",
      "Tweet made at: 2022-12-21T08:39:28.000Z is found.\n",
      "scroll  1\n",
      "scroll  2\n",
      "scroll  3\n",
      "looking for tweets between 2022-12-22 and 2022-12-23 ...\n",
      " path : https://twitter.com/search?q=(covid)%20until%3A2022-12-23%20since%3A2022-12-22%20lang%3Aen%20geocode%3A38.3452,-0.481006,200km&src=typed_query\n",
      "Tweet made at: 2022-12-22T16:57:51.000Z is found.\n",
      "Tweet made at: 2022-12-22T20:45:38.000Z is found.\n",
      "Tweet made at: 2022-12-22T20:42:52.000Z is found.\n",
      "scroll  1\n",
      "scroll  2\n",
      "scroll  3\n",
      "looking for tweets between 2022-12-23 and 2022-12-24 ...\n",
      " path : https://twitter.com/search?q=(covid)%20until%3A2022-12-24%20since%3A2022-12-23%20lang%3Aen%20geocode%3A38.3452,-0.481006,200km&src=typed_query\n",
      "scroll  1\n",
      "Tweet made at: 2022-12-23T08:23:03.000Z is found.\n",
      "scroll  2\n",
      "scroll  3\n",
      "looking for tweets between 2022-12-24 and 2022-12-25 ...\n",
      " path : https://twitter.com/search?q=(covid)%20until%3A2022-12-25%20since%3A2022-12-24%20lang%3Aen%20geocode%3A38.3452,-0.481006,200km&src=typed_query\n"
     ]
    },
    {
     "ename": "KeyboardInterrupt",
     "evalue": "",
     "output_type": "error",
     "traceback": [
      "\u001b[1;31m---------------------------------------------------------------------------\u001b[0m",
      "\u001b[1;31mKeyboardInterrupt\u001b[0m                         Traceback (most recent call last)",
      "\u001b[1;32m~\\AppData\\Local\\Temp/ipykernel_17276/3632667145.py\u001b[0m in \u001b[0;36m<module>\u001b[1;34m\u001b[0m\n\u001b[0;32m      1\u001b[0m \u001b[1;32mimport\u001b[0m \u001b[0mScweet\u001b[0m\u001b[1;33m.\u001b[0m\u001b[0mscweet\u001b[0m\u001b[1;33m\u001b[0m\u001b[1;33m\u001b[0m\u001b[0m\n\u001b[0;32m      2\u001b[0m \u001b[1;33m\u001b[0m\u001b[0m\n\u001b[1;32m----> 3\u001b[1;33m data = Scweet.scweet.scrape(words=['covid'], since=\"2022-12-20\", from_account=None, interval=1,\n\u001b[0m\u001b[0;32m      4\u001b[0m               \u001b[0mlimit\u001b[0m\u001b[1;33m=\u001b[0m\u001b[1;36m20\u001b[0m\u001b[1;33m,\u001b[0m\u001b[0mheadless\u001b[0m\u001b[1;33m=\u001b[0m\u001b[1;32mTrue\u001b[0m\u001b[1;33m,\u001b[0m \u001b[0mdisplay_type\u001b[0m\u001b[1;33m=\u001b[0m\u001b[1;34m\"Top\"\u001b[0m\u001b[1;33m,\u001b[0m \u001b[0msave_images\u001b[0m\u001b[1;33m=\u001b[0m\u001b[1;32mFalse\u001b[0m\u001b[1;33m,\u001b[0m \u001b[0mlang\u001b[0m\u001b[1;33m=\u001b[0m\u001b[1;34m\"en\"\u001b[0m\u001b[1;33m,\u001b[0m\u001b[1;33m\u001b[0m\u001b[1;33m\u001b[0m\u001b[0m\n\u001b[0;32m      5\u001b[0m               resume=False, filter_replies=False, proximity=False, geocode=\"38.3452,-0.481006,200km\")\n",
      "\u001b[1;32m~\\anaconda3\\lib\\site-packages\\Scweet\\scweet.py\u001b[0m in \u001b[0;36mscrape\u001b[1;34m(since, until, words, to_account, from_account, mention_account, interval, lang, headless, limit, display_type, resume, proxy, hashtag, show_images, save_images, save_dir, filter_replies, proximity, geocode, minreplies, minlikes, minretweets)\u001b[0m\n\u001b[0;32m    114\u001b[0m             \u001b[1;31m# start scrolling and get tweets\u001b[0m\u001b[1;33m\u001b[0m\u001b[1;33m\u001b[0m\u001b[0m\n\u001b[0;32m    115\u001b[0m             \u001b[0mdriver\u001b[0m\u001b[1;33m,\u001b[0m \u001b[0mdata\u001b[0m\u001b[1;33m,\u001b[0m \u001b[0mwriter\u001b[0m\u001b[1;33m,\u001b[0m \u001b[0mtweet_ids\u001b[0m\u001b[1;33m,\u001b[0m \u001b[0mscrolling\u001b[0m\u001b[1;33m,\u001b[0m \u001b[0mtweet_parsed\u001b[0m\u001b[1;33m,\u001b[0m \u001b[0mscroll\u001b[0m\u001b[1;33m,\u001b[0m \u001b[0mlast_position\u001b[0m \u001b[1;33m=\u001b[0m\u001b[0;31m \u001b[0m\u001b[0;31m\\\u001b[0m\u001b[1;33m\u001b[0m\u001b[1;33m\u001b[0m\u001b[0m\n\u001b[1;32m--> 116\u001b[1;33m                 \u001b[0mkeep_scroling\u001b[0m\u001b[1;33m(\u001b[0m\u001b[0mdriver\u001b[0m\u001b[1;33m,\u001b[0m \u001b[0mdata\u001b[0m\u001b[1;33m,\u001b[0m \u001b[0mwriter\u001b[0m\u001b[1;33m,\u001b[0m \u001b[0mtweet_ids\u001b[0m\u001b[1;33m,\u001b[0m \u001b[0mscrolling\u001b[0m\u001b[1;33m,\u001b[0m \u001b[0mtweet_parsed\u001b[0m\u001b[1;33m,\u001b[0m \u001b[0mlimit\u001b[0m\u001b[1;33m,\u001b[0m \u001b[0mscroll\u001b[0m\u001b[1;33m,\u001b[0m \u001b[0mlast_position\u001b[0m\u001b[1;33m)\u001b[0m\u001b[1;33m\u001b[0m\u001b[1;33m\u001b[0m\u001b[0m\n\u001b[0m\u001b[0;32m    117\u001b[0m \u001b[1;33m\u001b[0m\u001b[0m\n\u001b[0;32m    118\u001b[0m             \u001b[1;31m# keep updating <start date> and <end date> for every search\u001b[0m\u001b[1;33m\u001b[0m\u001b[1;33m\u001b[0m\u001b[0m\n",
      "\u001b[1;32m~\\anaconda3\\lib\\site-packages\\Scweet\\utils.py\u001b[0m in \u001b[0;36mkeep_scroling\u001b[1;34m(driver, data, writer, tweet_ids, scrolling, tweet_parsed, limit, scroll, last_position, save_images)\u001b[0m\n\u001b[0;32m    269\u001b[0m \u001b[1;33m\u001b[0m\u001b[0m\n\u001b[0;32m    270\u001b[0m     \u001b[1;32mwhile\u001b[0m \u001b[0mscrolling\u001b[0m \u001b[1;32mand\u001b[0m \u001b[0mtweet_parsed\u001b[0m \u001b[1;33m<\u001b[0m \u001b[0mlimit\u001b[0m\u001b[1;33m:\u001b[0m\u001b[1;33m\u001b[0m\u001b[1;33m\u001b[0m\u001b[0m\n\u001b[1;32m--> 271\u001b[1;33m         \u001b[0msleep\u001b[0m\u001b[1;33m(\u001b[0m\u001b[0mrandom\u001b[0m\u001b[1;33m.\u001b[0m\u001b[0muniform\u001b[0m\u001b[1;33m(\u001b[0m\u001b[1;36m0.5\u001b[0m\u001b[1;33m,\u001b[0m \u001b[1;36m1.5\u001b[0m\u001b[1;33m)\u001b[0m\u001b[1;33m)\u001b[0m\u001b[1;33m\u001b[0m\u001b[1;33m\u001b[0m\u001b[0m\n\u001b[0m\u001b[0;32m    272\u001b[0m         \u001b[1;31m# get the card of tweets\u001b[0m\u001b[1;33m\u001b[0m\u001b[1;33m\u001b[0m\u001b[0m\n\u001b[0;32m    273\u001b[0m         \u001b[0mpage_cards\u001b[0m \u001b[1;33m=\u001b[0m \u001b[0mdriver\u001b[0m\u001b[1;33m.\u001b[0m\u001b[0mfind_elements_by_xpath\u001b[0m\u001b[1;33m(\u001b[0m\u001b[1;34m'//article[@data-testid=\"tweet\"]'\u001b[0m\u001b[1;33m)\u001b[0m  \u001b[1;31m# changed div by article\u001b[0m\u001b[1;33m\u001b[0m\u001b[1;33m\u001b[0m\u001b[0m\n",
      "\u001b[1;31mKeyboardInterrupt\u001b[0m: "
     ]
    }
   ],
   "source": [
    "import Scweet.scweet\n",
    "\n",
    "data = Scweet.scweet.scrape(words=['covid'], since=\"2022-12-20\", from_account=None, interval=1,\n",
    "              limit=20,headless=True, display_type=\"Top\", save_images=False, lang=\"en\",\n",
    "              resume=False, filter_replies=False, proximity=False, geocode=\"38.3452,-0.481006,200km\")\n",
    "data.head()"
   ]
  },
  {
   "cell_type": "code",
   "execution_count": 7,
   "id": "66ac7983",
   "metadata": {},
   "outputs": [
    {
     "data": {
      "text/plain": [
       "0    https://twitter.com/arshhx0/status/16057006255...\n",
       "1    https://twitter.com/Jargent/status/16054830756...\n",
       "2    https://twitter.com/abcdiagnosis/status/160597...\n",
       "3    https://twitter.com/MsCarolKitch/status/160602...\n",
       "4    https://twitter.com/MsCarolKitch/status/160602...\n",
       "5    https://twitter.com/Sceeeb/status/160620372246...\n",
       "Name: Tweet URL, dtype: object"
      ]
     },
     "execution_count": 7,
     "metadata": {},
     "output_type": "execute_result"
    }
   ],
   "source": [
    "import pandas as pd\n",
    "\n",
    "df = pd.read_csv(\"../src/outputs/covid_2022-12-20_2023-01-14.csv\")\n",
    "df[\"Tweet URL\"]"
   ]
  },
  {
   "cell_type": "code",
   "execution_count": 13,
   "id": "d59ab4c0",
   "metadata": {},
   "outputs": [
    {
     "name": "stdout",
     "output_type": "stream",
     "text": [
      "Scraping on headless mode.\n"
     ]
    },
    {
     "ename": "NoSuchElementException",
     "evalue": "Message: no such element: Unable to locate element: {\"method\":\"xpath\",\"selector\":\"//input[@autocomplete=\"current-password\"]\"}\n  (Session info: headless chrome=109.0.5414.74)\nStacktrace:\nBacktrace:\n\t(No symbol) [0x00354AD3]\n\t(No symbol) [0x002E9211]\n\t(No symbol) [0x001DD9CD]\n\t(No symbol) [0x00211102]\n\t(No symbol) [0x0021123B]\n\t(No symbol) [0x00248A72]\n\t(No symbol) [0x0022FB84]\n\t(No symbol) [0x002467B9]\n\t(No symbol) [0x0022F936]\n\t(No symbol) [0x00204788]\n\t(No symbol) [0x00205C1D]\n\tGetHandleVerifier [0x005C9342+2502274]\n\tGetHandleVerifier [0x005F7959+2692249]\n\tGetHandleVerifier [0x005FABDC+2705180]\n\tGetHandleVerifier [0x00403480+643008]\n\t(No symbol) [0x002F208F]\n\t(No symbol) [0x002F7AB8]\n\t(No symbol) [0x002F7BA5]\n\t(No symbol) [0x0030273B]\n\tBaseThreadInitThunk [0x76DD00F9+25]\n\tRtlGetAppContainerNamedObjectPath [0x778C7BBE+286]\n\tRtlGetAppContainerNamedObjectPath [0x778C7B8E+238]\n",
     "output_type": "error",
     "traceback": [
      "\u001b[1;31m---------------------------------------------------------------------------\u001b[0m",
      "\u001b[1;31mNoSuchElementException\u001b[0m                    Traceback (most recent call last)",
      "\u001b[1;32m~\\AppData\\Local\\Temp/ipykernel_17276/2599953606.py\u001b[0m in \u001b[0;36m<module>\u001b[1;34m\u001b[0m\n\u001b[0;32m      2\u001b[0m \u001b[1;33m\u001b[0m\u001b[0m\n\u001b[0;32m      3\u001b[0m \u001b[0menv_path\u001b[0m \u001b[1;33m=\u001b[0m \u001b[1;34m\"../src/.env\"\u001b[0m\u001b[1;33m\u001b[0m\u001b[1;33m\u001b[0m\u001b[0m\n\u001b[1;32m----> 4\u001b[1;33m \u001b[0minfo\u001b[0m \u001b[1;33m=\u001b[0m \u001b[0mget_users_following\u001b[0m\u001b[1;33m(\u001b[0m\u001b[1;34m'Costa Blanca Olive Press'\u001b[0m\u001b[1;33m,\u001b[0m \u001b[0menv\u001b[0m\u001b[1;33m=\u001b[0m\u001b[0menv_path\u001b[0m\u001b[1;33m)\u001b[0m\u001b[1;33m\u001b[0m\u001b[1;33m\u001b[0m\u001b[0m\n\u001b[0m\u001b[0;32m      5\u001b[0m \u001b[0mprint\u001b[0m\u001b[1;33m(\u001b[0m\u001b[0minfo\u001b[0m\u001b[1;33m)\u001b[0m\u001b[1;33m\u001b[0m\u001b[1;33m\u001b[0m\u001b[0m\n",
      "\u001b[1;32m~\\anaconda3\\lib\\site-packages\\Scweet\\user.py\u001b[0m in \u001b[0;36mget_users_following\u001b[1;34m(users, env, verbose, headless, wait, limit, file_path)\u001b[0m\n\u001b[0;32m    110\u001b[0m \u001b[1;33m\u001b[0m\u001b[0m\n\u001b[0;32m    111\u001b[0m \u001b[1;32mdef\u001b[0m \u001b[0mget_users_following\u001b[0m\u001b[1;33m(\u001b[0m\u001b[0musers\u001b[0m\u001b[1;33m,\u001b[0m \u001b[0menv\u001b[0m\u001b[1;33m,\u001b[0m \u001b[0mverbose\u001b[0m\u001b[1;33m=\u001b[0m\u001b[1;36m1\u001b[0m\u001b[1;33m,\u001b[0m \u001b[0mheadless\u001b[0m\u001b[1;33m=\u001b[0m\u001b[1;32mTrue\u001b[0m\u001b[1;33m,\u001b[0m \u001b[0mwait\u001b[0m\u001b[1;33m=\u001b[0m\u001b[1;36m2\u001b[0m\u001b[1;33m,\u001b[0m \u001b[0mlimit\u001b[0m\u001b[1;33m=\u001b[0m\u001b[0mfloat\u001b[0m\u001b[1;33m(\u001b[0m\u001b[1;34m'inf'\u001b[0m\u001b[1;33m)\u001b[0m\u001b[1;33m,\u001b[0m \u001b[0mfile_path\u001b[0m\u001b[1;33m=\u001b[0m\u001b[1;32mNone\u001b[0m\u001b[1;33m)\u001b[0m\u001b[1;33m:\u001b[0m\u001b[1;33m\u001b[0m\u001b[1;33m\u001b[0m\u001b[0m\n\u001b[1;32m--> 112\u001b[1;33m     \u001b[0mfollowing\u001b[0m \u001b[1;33m=\u001b[0m \u001b[0mutils\u001b[0m\u001b[1;33m.\u001b[0m\u001b[0mget_users_follow\u001b[0m\u001b[1;33m(\u001b[0m\u001b[0musers\u001b[0m\u001b[1;33m,\u001b[0m \u001b[0mheadless\u001b[0m\u001b[1;33m,\u001b[0m \u001b[0menv\u001b[0m\u001b[1;33m,\u001b[0m \u001b[1;34m\"following\"\u001b[0m\u001b[1;33m,\u001b[0m \u001b[0mverbose\u001b[0m\u001b[1;33m,\u001b[0m \u001b[0mwait\u001b[0m\u001b[1;33m=\u001b[0m\u001b[0mwait\u001b[0m\u001b[1;33m,\u001b[0m \u001b[0mlimit\u001b[0m\u001b[1;33m=\u001b[0m\u001b[0mlimit\u001b[0m\u001b[1;33m)\u001b[0m\u001b[1;33m\u001b[0m\u001b[1;33m\u001b[0m\u001b[0m\n\u001b[0m\u001b[0;32m    113\u001b[0m \u001b[1;33m\u001b[0m\u001b[0m\n\u001b[0;32m    114\u001b[0m     \u001b[1;32mif\u001b[0m \u001b[0mfile_path\u001b[0m \u001b[1;33m==\u001b[0m \u001b[1;32mNone\u001b[0m\u001b[1;33m:\u001b[0m\u001b[1;33m\u001b[0m\u001b[1;33m\u001b[0m\u001b[0m\n",
      "\u001b[1;32m~\\anaconda3\\lib\\site-packages\\Scweet\\utils.py\u001b[0m in \u001b[0;36mget_users_follow\u001b[1;34m(users, headless, env, follow, verbose, wait, limit)\u001b[0m\n\u001b[0;32m    316\u001b[0m     \u001b[1;31m# log in (the .env file should contain the username and password)\u001b[0m\u001b[1;33m\u001b[0m\u001b[1;33m\u001b[0m\u001b[0m\n\u001b[0;32m    317\u001b[0m     \u001b[1;31m# driver.get('https://www.twitter.com/login')\u001b[0m\u001b[1;33m\u001b[0m\u001b[1;33m\u001b[0m\u001b[0m\n\u001b[1;32m--> 318\u001b[1;33m     \u001b[0mlog_in\u001b[0m\u001b[1;33m(\u001b[0m\u001b[0mdriver\u001b[0m\u001b[1;33m,\u001b[0m \u001b[0menv\u001b[0m\u001b[1;33m,\u001b[0m \u001b[0mwait\u001b[0m\u001b[1;33m=\u001b[0m\u001b[0mwait\u001b[0m\u001b[1;33m)\u001b[0m\u001b[1;33m\u001b[0m\u001b[1;33m\u001b[0m\u001b[0m\n\u001b[0m\u001b[0;32m    319\u001b[0m     \u001b[0msleep\u001b[0m\u001b[1;33m(\u001b[0m\u001b[0mwait\u001b[0m\u001b[1;33m)\u001b[0m\u001b[1;33m\u001b[0m\u001b[1;33m\u001b[0m\u001b[0m\n\u001b[0;32m    320\u001b[0m     \u001b[1;31m# followers and following dict of each user\u001b[0m\u001b[1;33m\u001b[0m\u001b[1;33m\u001b[0m\u001b[0m\n",
      "\u001b[1;32m~\\anaconda3\\lib\\site-packages\\Scweet\\utils.py\u001b[0m in \u001b[0;36mlog_in\u001b[1;34m(driver, env, timeout, wait)\u001b[0m\n\u001b[0;32m    251\u001b[0m         \u001b[0msleep\u001b[0m\u001b[1;33m(\u001b[0m\u001b[0mrandom\u001b[0m\u001b[1;33m.\u001b[0m\u001b[0muniform\u001b[0m\u001b[1;33m(\u001b[0m\u001b[0mwait\u001b[0m\u001b[1;33m,\u001b[0m \u001b[0mwait\u001b[0m \u001b[1;33m+\u001b[0m \u001b[1;36m1\u001b[0m\u001b[1;33m)\u001b[0m\u001b[1;33m)\u001b[0m\u001b[1;33m\u001b[0m\u001b[1;33m\u001b[0m\u001b[0m\n\u001b[0;32m    252\u001b[0m     \u001b[1;31m# enter password\u001b[0m\u001b[1;33m\u001b[0m\u001b[1;33m\u001b[0m\u001b[0m\n\u001b[1;32m--> 253\u001b[1;33m     \u001b[0mpassword_el\u001b[0m \u001b[1;33m=\u001b[0m \u001b[0mdriver\u001b[0m\u001b[1;33m.\u001b[0m\u001b[0mfind_element_by_xpath\u001b[0m\u001b[1;33m(\u001b[0m\u001b[0mpassword_xpath\u001b[0m\u001b[1;33m)\u001b[0m\u001b[1;33m\u001b[0m\u001b[1;33m\u001b[0m\u001b[0m\n\u001b[0m\u001b[0;32m    254\u001b[0m     \u001b[0mpassword_el\u001b[0m\u001b[1;33m.\u001b[0m\u001b[0msend_keys\u001b[0m\u001b[1;33m(\u001b[0m\u001b[0mpassword\u001b[0m\u001b[1;33m)\u001b[0m\u001b[1;33m\u001b[0m\u001b[1;33m\u001b[0m\u001b[0m\n\u001b[0;32m    255\u001b[0m     \u001b[0msleep\u001b[0m\u001b[1;33m(\u001b[0m\u001b[0mrandom\u001b[0m\u001b[1;33m.\u001b[0m\u001b[0muniform\u001b[0m\u001b[1;33m(\u001b[0m\u001b[0mwait\u001b[0m\u001b[1;33m,\u001b[0m \u001b[0mwait\u001b[0m \u001b[1;33m+\u001b[0m \u001b[1;36m1\u001b[0m\u001b[1;33m)\u001b[0m\u001b[1;33m)\u001b[0m\u001b[1;33m\u001b[0m\u001b[1;33m\u001b[0m\u001b[0m\n",
      "\u001b[1;32m~\\anaconda3\\lib\\site-packages\\selenium\\webdriver\\remote\\webdriver.py\u001b[0m in \u001b[0;36mfind_element_by_xpath\u001b[1;34m(self, xpath)\u001b[0m\n\u001b[0;32m    524\u001b[0m             \u001b[0mstacklevel\u001b[0m\u001b[1;33m=\u001b[0m\u001b[1;36m2\u001b[0m\u001b[1;33m,\u001b[0m\u001b[1;33m\u001b[0m\u001b[1;33m\u001b[0m\u001b[0m\n\u001b[0;32m    525\u001b[0m         )\n\u001b[1;32m--> 526\u001b[1;33m         \u001b[1;32mreturn\u001b[0m \u001b[0mself\u001b[0m\u001b[1;33m.\u001b[0m\u001b[0mfind_element\u001b[0m\u001b[1;33m(\u001b[0m\u001b[0mby\u001b[0m\u001b[1;33m=\u001b[0m\u001b[0mBy\u001b[0m\u001b[1;33m.\u001b[0m\u001b[0mXPATH\u001b[0m\u001b[1;33m,\u001b[0m \u001b[0mvalue\u001b[0m\u001b[1;33m=\u001b[0m\u001b[0mxpath\u001b[0m\u001b[1;33m)\u001b[0m\u001b[1;33m\u001b[0m\u001b[1;33m\u001b[0m\u001b[0m\n\u001b[0m\u001b[0;32m    527\u001b[0m \u001b[1;33m\u001b[0m\u001b[0m\n\u001b[0;32m    528\u001b[0m     \u001b[1;32mdef\u001b[0m \u001b[0mfind_elements_by_xpath\u001b[0m\u001b[1;33m(\u001b[0m\u001b[0mself\u001b[0m\u001b[1;33m,\u001b[0m \u001b[0mxpath\u001b[0m\u001b[1;33m)\u001b[0m \u001b[1;33m->\u001b[0m \u001b[0mList\u001b[0m\u001b[1;33m[\u001b[0m\u001b[0mWebElement\u001b[0m\u001b[1;33m]\u001b[0m\u001b[1;33m:\u001b[0m\u001b[1;33m\u001b[0m\u001b[1;33m\u001b[0m\u001b[0m\n",
      "\u001b[1;32m~\\anaconda3\\lib\\site-packages\\selenium\\webdriver\\remote\\webdriver.py\u001b[0m in \u001b[0;36mfind_element\u001b[1;34m(self, by, value)\u001b[0m\n\u001b[0;32m   1249\u001b[0m             \u001b[0mvalue\u001b[0m \u001b[1;33m=\u001b[0m \u001b[1;34m'[name=\"%s\"]'\u001b[0m \u001b[1;33m%\u001b[0m \u001b[0mvalue\u001b[0m\u001b[1;33m\u001b[0m\u001b[1;33m\u001b[0m\u001b[0m\n\u001b[0;32m   1250\u001b[0m \u001b[1;33m\u001b[0m\u001b[0m\n\u001b[1;32m-> 1251\u001b[1;33m         return self.execute(Command.FIND_ELEMENT, {\n\u001b[0m\u001b[0;32m   1252\u001b[0m             \u001b[1;34m'using'\u001b[0m\u001b[1;33m:\u001b[0m \u001b[0mby\u001b[0m\u001b[1;33m,\u001b[0m\u001b[1;33m\u001b[0m\u001b[1;33m\u001b[0m\u001b[0m\n\u001b[0;32m   1253\u001b[0m             'value': value})['value']\n",
      "\u001b[1;32m~\\anaconda3\\lib\\site-packages\\selenium\\webdriver\\remote\\webdriver.py\u001b[0m in \u001b[0;36mexecute\u001b[1;34m(self, driver_command, params)\u001b[0m\n\u001b[0;32m    428\u001b[0m         \u001b[0mresponse\u001b[0m \u001b[1;33m=\u001b[0m \u001b[0mself\u001b[0m\u001b[1;33m.\u001b[0m\u001b[0mcommand_executor\u001b[0m\u001b[1;33m.\u001b[0m\u001b[0mexecute\u001b[0m\u001b[1;33m(\u001b[0m\u001b[0mdriver_command\u001b[0m\u001b[1;33m,\u001b[0m \u001b[0mparams\u001b[0m\u001b[1;33m)\u001b[0m\u001b[1;33m\u001b[0m\u001b[1;33m\u001b[0m\u001b[0m\n\u001b[0;32m    429\u001b[0m         \u001b[1;32mif\u001b[0m \u001b[0mresponse\u001b[0m\u001b[1;33m:\u001b[0m\u001b[1;33m\u001b[0m\u001b[1;33m\u001b[0m\u001b[0m\n\u001b[1;32m--> 430\u001b[1;33m             \u001b[0mself\u001b[0m\u001b[1;33m.\u001b[0m\u001b[0merror_handler\u001b[0m\u001b[1;33m.\u001b[0m\u001b[0mcheck_response\u001b[0m\u001b[1;33m(\u001b[0m\u001b[0mresponse\u001b[0m\u001b[1;33m)\u001b[0m\u001b[1;33m\u001b[0m\u001b[1;33m\u001b[0m\u001b[0m\n\u001b[0m\u001b[0;32m    431\u001b[0m             response['value'] = self._unwrap_value(\n\u001b[0;32m    432\u001b[0m                 response.get('value', None))\n",
      "\u001b[1;32m~\\anaconda3\\lib\\site-packages\\selenium\\webdriver\\remote\\errorhandler.py\u001b[0m in \u001b[0;36mcheck_response\u001b[1;34m(self, response)\u001b[0m\n\u001b[0;32m    245\u001b[0m                 \u001b[0malert_text\u001b[0m \u001b[1;33m=\u001b[0m \u001b[0mvalue\u001b[0m\u001b[1;33m[\u001b[0m\u001b[1;34m'alert'\u001b[0m\u001b[1;33m]\u001b[0m\u001b[1;33m.\u001b[0m\u001b[0mget\u001b[0m\u001b[1;33m(\u001b[0m\u001b[1;34m'text'\u001b[0m\u001b[1;33m)\u001b[0m\u001b[1;33m\u001b[0m\u001b[1;33m\u001b[0m\u001b[0m\n\u001b[0;32m    246\u001b[0m             \u001b[1;32mraise\u001b[0m \u001b[0mexception_class\u001b[0m\u001b[1;33m(\u001b[0m\u001b[0mmessage\u001b[0m\u001b[1;33m,\u001b[0m \u001b[0mscreen\u001b[0m\u001b[1;33m,\u001b[0m \u001b[0mstacktrace\u001b[0m\u001b[1;33m,\u001b[0m \u001b[0malert_text\u001b[0m\u001b[1;33m)\u001b[0m  \u001b[1;31m# type: ignore[call-arg]  # mypy is not smart enough here\u001b[0m\u001b[1;33m\u001b[0m\u001b[1;33m\u001b[0m\u001b[0m\n\u001b[1;32m--> 247\u001b[1;33m         \u001b[1;32mraise\u001b[0m \u001b[0mexception_class\u001b[0m\u001b[1;33m(\u001b[0m\u001b[0mmessage\u001b[0m\u001b[1;33m,\u001b[0m \u001b[0mscreen\u001b[0m\u001b[1;33m,\u001b[0m \u001b[0mstacktrace\u001b[0m\u001b[1;33m)\u001b[0m\u001b[1;33m\u001b[0m\u001b[1;33m\u001b[0m\u001b[0m\n\u001b[0m\u001b[0;32m    248\u001b[0m \u001b[1;33m\u001b[0m\u001b[0m\n\u001b[0;32m    249\u001b[0m     \u001b[1;32mdef\u001b[0m \u001b[0m_value_or_default\u001b[0m\u001b[1;33m(\u001b[0m\u001b[0mself\u001b[0m\u001b[1;33m,\u001b[0m \u001b[0mobj\u001b[0m\u001b[1;33m:\u001b[0m \u001b[0mMapping\u001b[0m\u001b[1;33m[\u001b[0m\u001b[0m_KT\u001b[0m\u001b[1;33m,\u001b[0m \u001b[0m_VT\u001b[0m\u001b[1;33m]\u001b[0m\u001b[1;33m,\u001b[0m \u001b[0mkey\u001b[0m\u001b[1;33m:\u001b[0m \u001b[0m_KT\u001b[0m\u001b[1;33m,\u001b[0m \u001b[0mdefault\u001b[0m\u001b[1;33m:\u001b[0m \u001b[0m_VT\u001b[0m\u001b[1;33m)\u001b[0m \u001b[1;33m->\u001b[0m \u001b[0m_VT\u001b[0m\u001b[1;33m:\u001b[0m\u001b[1;33m\u001b[0m\u001b[1;33m\u001b[0m\u001b[0m\n",
      "\u001b[1;31mNoSuchElementException\u001b[0m: Message: no such element: Unable to locate element: {\"method\":\"xpath\",\"selector\":\"//input[@autocomplete=\"current-password\"]\"}\n  (Session info: headless chrome=109.0.5414.74)\nStacktrace:\nBacktrace:\n\t(No symbol) [0x00354AD3]\n\t(No symbol) [0x002E9211]\n\t(No symbol) [0x001DD9CD]\n\t(No symbol) [0x00211102]\n\t(No symbol) [0x0021123B]\n\t(No symbol) [0x00248A72]\n\t(No symbol) [0x0022FB84]\n\t(No symbol) [0x002467B9]\n\t(No symbol) [0x0022F936]\n\t(No symbol) [0x00204788]\n\t(No symbol) [0x00205C1D]\n\tGetHandleVerifier [0x005C9342+2502274]\n\tGetHandleVerifier [0x005F7959+2692249]\n\tGetHandleVerifier [0x005FABDC+2705180]\n\tGetHandleVerifier [0x00403480+643008]\n\t(No symbol) [0x002F208F]\n\t(No symbol) [0x002F7AB8]\n\t(No symbol) [0x002F7BA5]\n\t(No symbol) [0x0030273B]\n\tBaseThreadInitThunk [0x76DD00F9+25]\n\tRtlGetAppContainerNamedObjectPath [0x778C7BBE+286]\n\tRtlGetAppContainerNamedObjectPath [0x778C7B8E+238]\n"
     ]
    }
   ],
   "source": [
    "from Scweet.user import get_user_information, get_users_following, get_users_followers\n",
    "\n",
    "env_path = \"../src/.env\"\n",
    "info = get_users_following('Costa Blanca Olive Press', env=env_path)\n",
    "print(info)"
   ]
  },
  {
   "cell_type": "code",
   "execution_count": null,
   "id": "1f0f036b",
   "metadata": {},
   "outputs": [],
   "source": []
  }
 ],
 "metadata": {
  "kernelspec": {
   "display_name": "Python 3 (ipykernel)",
   "language": "python",
   "name": "python3"
  },
  "language_info": {
   "codemirror_mode": {
    "name": "ipython",
    "version": 3
   },
   "file_extension": ".py",
   "mimetype": "text/x-python",
   "name": "python",
   "nbconvert_exporter": "python",
   "pygments_lexer": "ipython3",
   "version": "3.9.7"
  }
 },
 "nbformat": 4,
 "nbformat_minor": 5
}
